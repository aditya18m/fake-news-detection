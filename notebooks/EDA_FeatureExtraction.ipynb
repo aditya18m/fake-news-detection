{
 "cells": [
  {
   "cell_type": "code",
   "execution_count": 1,
   "id": "039d17d0",
   "metadata": {},
   "outputs": [],
   "source": [
    "import os\n",
    "import numpy as np\n",
    "import pandas as pd\n",
    "import networkx as nx\n",
    "from scipy.stats import entropy\n",
    "import matplotlib.pyplot as plt\n",
    "import seaborn as sns"
   ]
  },
  {
   "cell_type": "code",
   "execution_count": 2,
   "id": "9b2368b0",
   "metadata": {},
   "outputs": [],
   "source": [
    "# Paths\n",
    "EDGE_PATH = \"../data/gossipcop/raw/A.txt\"\n",
    "INDICATOR_PATH = \"../data/gossipcop/raw/node_graph_id.npy\"\n",
    "LABELS_PATH = \"../data/gossipcop/raw/graph_labels.npy\"\n",
    "RESULTS_DIR = \"../results\"\n",
    "os.makedirs(RESULTS_DIR, exist_ok=True)\n"
   ]
  },
  {
   "cell_type": "code",
   "execution_count": 3,
   "id": "90af7b4a",
   "metadata": {},
   "outputs": [],
   "source": [
    "# Graph Loader\n",
    "def load_graphs(edge_path, indicator_path):\n",
    "    edges = []\n",
    "    with open(edge_path, \"r\") as f:\n",
    "        for line in f:\n",
    "            parts = line.strip().split(\",\")\n",
    "            if len(parts) == 2:\n",
    "                try:\n",
    "                    edges.append((int(parts[0]), int(parts[1])))\n",
    "                except ValueError:\n",
    "                    continue\n",
    "    edge_index = np.array(edges).T\n",
    "    graph_indicator = np.load(indicator_path)\n",
    "    num_graphs = int(graph_indicator.max())\n",
    "    graphs = [nx.Graph() for _ in range(num_graphs + 1)]\n",
    "\n",
    "    for n, g_id in enumerate(graph_indicator):\n",
    "        graphs[g_id].add_node(n)\n",
    "    for src, dst in edge_index.T:\n",
    "        graphs[graph_indicator[src]].add_edge(src, dst)\n",
    "\n",
    "    return graphs[1:]\n"
   ]
  },
  {
   "cell_type": "code",
   "execution_count": 4,
   "id": "061f3932",
   "metadata": {},
   "outputs": [],
   "source": [
    "# Feature Extraction\n",
    "def extract_graph_features(G):\n",
    "    if len(G) == 0 or G.number_of_nodes() == 0:\n",
    "        return [0] * 18\n",
    "\n",
    "    degrees = dict(G.degree())\n",
    "    deg_vals = list(degrees.values())\n",
    "    degree_hist = np.bincount(deg_vals)\n",
    "    deg_entropy = entropy(degree_hist, base=2)\n",
    "\n",
    "    degree_centrality = list(nx.degree_centrality(G).values())\n",
    "    betweenness_centrality = list(nx.betweenness_centrality(G).values())\n",
    "    closeness_centrality = list(nx.closeness_centrality(G).values())\n",
    "    harmonic_centrality = list(nx.harmonic_centrality(G).values())\n",
    "\n",
    "    try:\n",
    "        eigenvector_centrality = list(nx.eigenvector_centrality(G, max_iter=1000).values())\n",
    "    except:\n",
    "        eigenvector_centrality = [0] * G.number_of_nodes()\n",
    "\n",
    "    if nx.is_connected(G):\n",
    "        ecc = list(nx.eccentricity(G).values())\n",
    "        avg_shortest_paths = nx.average_shortest_path_length(G)\n",
    "        diameter = nx.diameter(G)\n",
    "        radius = nx.radius(G)\n",
    "    else:\n",
    "        ecc = [0]\n",
    "        avg_shortest_paths = 0\n",
    "        diameter = 0\n",
    "        radius = 0\n",
    "\n",
    "    return [\n",
    "        G.number_of_nodes(), # Number of Nodes\n",
    "        G.number_of_edges(), # Number of Edges\n",
    "        np.mean(deg_vals), # Avg Degree\n",
    "        nx.average_clustering(G), # Clustering Coeff\n",
    "        nx.density(G), # Density\n",
    "        nx.number_connected_components(G), # Num Components\n",
    "        nx.degree_assortativity_coefficient(G), # Assortativity\n",
    "        diameter, # Diameter\n",
    "        radius, # Radius\n",
    "        np.max(deg_vals), # Max Degree\n",
    "        np.mean(degree_centrality), # Avg Degree Centrality\n",
    "        np.mean(betweenness_centrality), # Avg Betweenness\n",
    "        np.mean(closeness_centrality), # Avg Closeness\n",
    "        np.mean(harmonic_centrality), # Avg Harmonic Centrality\n",
    "        np.mean(eigenvector_centrality), # Avg Eigenvector Centrality\n",
    "        np.mean(ecc), # Avg Eccentricity\n",
    "        avg_shortest_paths, # Avg Shortest Path\n",
    "        deg_entropy # Degree Entropy\n",
    "    ]\n",
    "\n",
    "def extract_all_features(graphs):\n",
    "    return np.array([extract_graph_features(g) for g in graphs])"
   ]
  },
  {
   "cell_type": "code",
   "execution_count": 5,
   "id": "2486280c",
   "metadata": {},
   "outputs": [
    {
     "name": "stdout",
     "output_type": "stream",
     "text": [
      "Loading graphs...\n",
      "Extracting features...\n",
      "Feature matrix shape: (5463, 18)\n",
      "Loading labels...\n"
     ]
    }
   ],
   "source": [
    "# Run Everything\n",
    "print(\"Loading graphs...\")\n",
    "graphs = load_graphs(EDGE_PATH, INDICATOR_PATH)\n",
    "\n",
    "print(\"Extracting features...\")\n",
    "features = extract_all_features(graphs)\n",
    "print(\"Feature matrix shape:\", features.shape)\n",
    "\n",
    "print(\"Loading labels...\")\n",
    "raw_labels = np.load(LABELS_PATH)\n",
    "labels = raw_labels[1:]  # Drop dummy\n",
    "label_names = pd.Series(labels).map({0: \"Fake\", 1: \"Real\"})"
   ]
  },
  {
   "cell_type": "code",
   "execution_count": 6,
   "id": "dd62bdb3",
   "metadata": {},
   "outputs": [
    {
     "name": "stdout",
     "output_type": "stream",
     "text": [
      "Class Distribution:\n",
      "Label\n",
      "Real    2732\n",
      "Fake    2731\n",
      "Name: count, dtype: int64\n"
     ]
    },
    {
     "data": {
      "image/png": "[encoded data removed]",
      "text/plain": [
       "<Figure size 640x480 with 1 Axes>"
      ]
     },
     "metadata": {},
     "output_type": "display_data"
    }
   ],
   "source": [
    "# DataFrame\n",
    "feature_names = [\n",
    "    \"Num Nodes\", \"Num Edges\", \"Avg Degree\", \"Clustering Coefficient\", \"Density\", \"Num Components\",\n",
    "    \"Assortativity\", \"Diameter\", \"Radius\", \"Max Degree\", \"Avg Degree Centrality\", \"Avg Betweenness\",\n",
    "    \"Avg Closeness\", \"Avg Harmonic Centrality\", \"Avg Eigenvector Centrality\", \"Avg Eccentricity\",\n",
    "    \"Path Length\", \"Degree Entropy\"\n",
    "]\n",
    "\n",
    "df = pd.DataFrame(features, columns=feature_names)\n",
    "df[\"Label\"] = label_names[:features.shape[0]]\n",
    "\n",
    "print(\"Class Distribution:\")\n",
    "print(df[\"Label\"].value_counts())\n",
    "\n",
    "\n",
    "\n",
    "# Save the DataFrame\n",
    "np.save(os.path.join(RESULTS_DIR, \"gossipcop_features_extended_18.npy\"), features)\n",
    "np.save(os.path.join(RESULTS_DIR, \"gossipcop_labels.npy\"), labels[:features.shape[0]])\n",
    "\n",
    "\n",
    "# Class Balance Plot\n",
    "sns.countplot(data=df, x=\"Label\")\n",
    "plt.title(\"Class Distribution in GossipCop Dataset\")\n",
    "plt.ylabel(\"Count\")\n",
    "plt.xlabel(\"News Type\")\n",
    "plt.show()"
   ]
  }
 ],
 "metadata": {
  "kernelspec": {
   "display_name": "defi_fraud",
   "language": "python",
   "name": "python3"
  },
  "language_info": {
   "codemirror_mode": {
    "name": "ipython",
    "version": 3
   },
   "file_extension": ".py",
   "mimetype": "text/x-python",
   "name": "python",
   "nbconvert_exporter": "python",
   "pygments_lexer": "ipython3",
   "version": "3.9.21"
  }
 },
 "nbformat": 4,
 "nbformat_minor": 5
}
